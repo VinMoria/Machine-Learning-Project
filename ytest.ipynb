{
 "cells": [
  {
   "cell_type": "code",
   "execution_count": null,
   "metadata": {},
   "outputs": [],
   "source": [
    "import yfinance as yf\n",
    "\n",
    "msft = yf.Ticker(\"MSFT\")\n",
    "\n",
    "# get all stock info\n",
    "msft.info"
   ]
  },
  {
   "cell_type": "code",
   "execution_count": null,
   "metadata": {},
   "outputs": [],
   "source": [
    "hist = msft.history(period=\"1mo\")\n",
    "print(hist)"
   ]
  },
  {
   "cell_type": "code",
   "execution_count": null,
   "metadata": {},
   "outputs": [],
   "source": [
    "msft.history_metadata"
   ]
  },
  {
   "cell_type": "code",
   "execution_count": null,
   "metadata": {},
   "outputs": [],
   "source": [
    "msft.quarterly_income_stmt"
   ]
  },
  {
   "cell_type": "code",
   "execution_count": null,
   "metadata": {},
   "outputs": [],
   "source": [
    "msft.earnings_estimate\n",
    "msft.quarterly_cashflow"
   ]
  },
  {
   "cell_type": "code",
   "execution_count": null,
   "metadata": {},
   "outputs": [],
   "source": [
    "import yfinance as yf\n",
    "\n",
    "# 设置股票代码\n",
    "ticker = 'AAPL'  # 例如：苹果公司股票代码\n",
    "\n",
    "# 下载股票数据\n",
    "stock = yf.Ticker(ticker)\n",
    "\n",
    "# 获取财务报表数据\n",
    "balance_sheet = stock.balance_sheet     # 资产负债表 (年度)\n",
    "income_statement = stock.financials     # 利润表 (年度)\n",
    "cashflow = stock.cashflow               # 现金流量表 (年度)\n",
    "\n",
    "# 获取季度财务报表数据\n",
    "quarterly_balance_sheet = stock.quarterly_balance_sheet  # 资产负债表 (季度)\n",
    "quarterly_income_statement = stock.quarterly_financials  # 利润表 (季度)\n",
    "quarterly_cashflow = stock.quarterly_cashflow            # 现金流量表 (季度)\n",
    "\n",
    "# 打印数据\n",
    "print(\"年度资产负债表：\\n\", balance_sheet)\n",
    "print(\"季度资产负债表：\\n\", quarterly_balance_sheet)\n",
    "\n",
    "# 获取某个年份的财务数据，例如 2022 年的资产负债表\n",
    "balance_sheet_2022 = balance_sheet.loc[:, balance_sheet.columns.year == 2022]\n",
    "print(\"2022 年资产负债表：\\n\", balance_sheet_2022)\n",
    "\n"
   ]
  },
  {
   "cell_type": "code",
   "execution_count": null,
   "metadata": {},
   "outputs": [],
   "source": [
    "import yfinance as yf\n",
    "\n",
    "# 假设你感兴趣的是技术行业的ETF，比如XLK（科技板块）\n",
    "etf_ticker = 'XLK'  # 这是一个科技行业相关的ETF\n",
    "\n",
    "# 下载ETF数据\n",
    "etf = yf.Ticker(etf_ticker)\n",
    "\n",
    "# 获取成分股\n",
    "print(etf)\n",
    "\n",
    "etf.info\n",
    "\n",
    "# 打印成分股\n",
    "# print(holdings)\n"
   ]
  },
  {
   "cell_type": "code",
   "execution_count": null,
   "metadata": {},
   "outputs": [],
   "source": [
    "from datetime import datetime, timedelta\n",
    "import numpy as np\n",
    "\n",
    "def get_ticker_market_cap(ticker, date):\n",
    "    try:\n",
    "        ticker_obj = yf.Ticker(ticker)\n",
    "        date_obj = datetime.strptime(date, '%Y-%m-%d')\n",
    "        new_date_obj = date_obj + timedelta(days=10)\n",
    "        end_date = new_date_obj.strftime('%Y-%m-%d')\n",
    "        historical_data = ticker_obj.history(start=date, end=end_date)\n",
    "        shares_outstanding = ticker_obj.info['sharesOutstanding']\n",
    "        return float(historical_data['Close'].iloc[0] * shares_outstanding / 1000000)\n",
    "    except:\n",
    "        return np.nan\n",
    "\n",
    "\n",
    "print(get_ticker_market_cap(\"AAPL\",\"2023-9-21\"))\n",
    "# ticker_obj.info['sharesOutstanding']\n",
    "\n",
    "# # 获取股票的流通股数量 (Shares Outstanding)\n",
    "# shares_outstanding = ticker_obj.info['sharesOutstanding']\n",
    "\n",
    "# # 计算市值 = 收盘价 * 流通股数量\n",
    "# market_cap = historical_data['Close'].iloc[0] * shares_outstanding\n",
    "\n",
    "# # 打印结果\n",
    "# print(f\"2023-10-01 的市值为: {market_cap}\")"
   ]
  },
  {
   "cell_type": "code",
   "execution_count": null,
   "metadata": {},
   "outputs": [],
   "source": [
    "def get_finace_df(ticker):\n",
    "    try:\n",
    "        stock = yf.Ticker(ticker)\n",
    "\n",
    "        # 获取季度财务报表\n",
    "        balance_sheet_quarterly = stock.quarterly_balance_sheet  # 季度资产负债表\n",
    "        income_statement_quarterly = stock.quarterly_financials  # 季度利润表\n",
    "        cashflow_quarterly = stock.quarterly_cashflow            # 季度现金流量表\n",
    "\n",
    "        def handle(df): # 转置，删除最后一行\n",
    "            df = df.transpose()\n",
    "            df = df.iloc[:min(5,df.shape[0])]\n",
    "            return df\n",
    "        balance_sheet_quarterly = handle(balance_sheet_quarterly)\n",
    "        income_statement_quarterly = handle(income_statement_quarterly)\n",
    "        cashflow_quarterly = handle(cashflow_quarterly)\n",
    "\n",
    "        # 将3个df列合并\n",
    "        df_merged = pd.merge(balance_sheet_quarterly, income_statement_quarterly, left_index=True, right_index=True)\n",
    "        df_merged = pd.merge(df_merged, cashflow_quarterly, left_index=True, right_index=True)\n",
    "        # 插入Ticker和Sector\n",
    "        df_merged.insert(0, 'Ticker', [ticker]*df_merged.shape[0])\n",
    "        df_merged = df_merged.reset_index()\n",
    "        df_merged.rename(columns={'index': 'Quarter'}, inplace=True)\n",
    "        # 插入市值（Y）\n",
    "        quarter_list = list(df_merged.Quarter)\n",
    "        marker_cap_list = []\n",
    "        for quarter in quarter_list:\n",
    "            quarter = quarter.strftime('%Y-%m-%d')\n",
    "            marker_cap = get_ticker_market_cap(ticker, quarter)\n",
    "            if marker_cap == -1:\n",
    "                return -1\n",
    "            else:\n",
    "                marker_cap_list.append(marker_cap)\n",
    "        df_merged.insert(df_merged.shape[1], 'Market Cap(M)', marker_cap_list)\n",
    "        if df_merged.shape[0] == 0:\n",
    "            return -1\n",
    "        print(df_merged.shape)\n",
    "        return df_merged\n",
    "    except:\n",
    "        return -1\n",
    "\n",
    "get_finace_df(\"DXLG\")"
   ]
  },
  {
   "cell_type": "markdown",
   "metadata": {},
   "source": [
    "Sectors:\n",
    "['Healthcare' 'Basic Materials' 'Financial' 'Consumer Defensive'\n",
    " 'Industrials' 'Technology' 'Consumer Cyclical' 'Real Estate'\n",
    " 'Communication Services' 'Energy' 'Utilities']"
   ]
  },
  {
   "cell_type": "code",
   "execution_count": null,
   "metadata": {},
   "outputs": [],
   "source": [
    "not isinstance(-1, float)"
   ]
  },
  {
   "cell_type": "code",
   "execution_count": 6,
   "metadata": {},
   "outputs": [
    {
     "data": {
      "text/plain": [
       "['Common Stock Dividend Paid',\n",
       " 'Total Revenue',\n",
       " 'Operating Cash Flow',\n",
       " 'Accumulated Depreciation',\n",
       " 'Free Cash Flow',\n",
       " 'Capital Expenditure Reported',\n",
       " 'Other Investments',\n",
       " 'Goodwill',\n",
       " 'Non Current Deferred Taxes Liabilities',\n",
       " 'Current Provisions',\n",
       " 'Interest Payable',\n",
       " 'Depreciation And Amortization In Income Statement',\n",
       " 'Other Properties',\n",
       " 'Other Intangible Assets',\n",
       " 'Total Capitalization',\n",
       " 'Other Current Liabilities',\n",
       " 'Selling General And Administration',\n",
       " 'Minority Interest',\n",
       " 'Invested Capital',\n",
       " 'Other Receivables']"
      ]
     },
     "execution_count": 6,
     "metadata": {},
     "output_type": "execute_result"
    }
   ],
   "source": [
    "import pandas as pd\n",
    "\n",
    "FEATURE_PATH = \"importance/\"\n",
    "df_features = pd.read_csv(FEATURE_PATH + \"Utilities\" + \"_feature_importance.csv\")\n",
    "df_features.columns.values[0] = 'Feature'\n",
    "top_20 = list(df_features.sort_values(by='Importance', ascending=False).head(20)[\"Feature\"])\n",
    "top_20"
   ]
  }
 ],
 "metadata": {
  "kernelspec": {
   "display_name": "Python 3",
   "language": "python",
   "name": "python3"
  },
  "language_info": {
   "codemirror_mode": {
    "name": "ipython",
    "version": 3
   },
   "file_extension": ".py",
   "mimetype": "text/x-python",
   "name": "python",
   "nbconvert_exporter": "python",
   "pygments_lexer": "ipython3",
   "version": "3.12.2"
  }
 },
 "nbformat": 4,
 "nbformat_minor": 2
}
